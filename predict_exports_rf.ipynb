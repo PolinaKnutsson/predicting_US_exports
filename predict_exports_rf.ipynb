{
 "cells": [
  {
   "cell_type": "code",
   "execution_count": 534,
   "id": "ec3e2d6b",
   "metadata": {},
   "outputs": [],
   "source": [
    "import numpy as np\n",
    "import pandas as pd\n",
    "import matplotlib.pyplot as plt\n",
    "import seaborn as sns\n",
    "%matplotlib inline\n",
    "from sklearn.ensemble import RandomForestRegressor"
   ]
  },
  {
   "cell_type": "code",
   "execution_count": 456,
   "id": "aba323fd",
   "metadata": {},
   "outputs": [],
   "source": [
    "# Generate dataset to test delays in publication ('publication lags')\n",
    "def publ_delay(metadata, data, last_date, lag):\n",
    "    # keep data until the last date\n",
    "    data_publ_delay = data.loc[data.date <= last_date, :].reset_index(drop=True)\n",
    "    #  simulate publcation lag for each variable\n",
    "    for col in data_publ_delay.columns[1:]:\n",
    "        # extract publication lag from metadata\n",
    "        pub_lag = metadata.loc[metadata.series == col, \"months_lag\"].values[0] \n",
    "        # simulate publication lag: replace observations within the lag with missing values\n",
    "        data_publ_delay.loc[(len(data_publ_delay) - pub_lag + lag - 1) :, col] = np.nan\n",
    "\n",
    "    return data_publ_delay\n",
    "\n",
    "# Create lagged variables \n",
    "def add_lags(data,target_variable, number_lags):\n",
    "    data_with_lags = data.loc[~pd.isna(data[target_variable]), :]\n",
    "    index0 = data_with_lags.index   \n",
    "    for i in range(1, number_lags + 1):\n",
    "            lag_indices = index0 - i\n",
    "            lag_indices = lag_indices[lag_indices >= 0]\n",
    "            tmp = data.loc[lag_indices, :]\n",
    "            tmp.date = tmp.date + pd.DateOffset(months=i)\n",
    "            tmp = tmp.drop([target_variable], axis=1)\n",
    "            tmp.columns = [j + \"_\" + str(i) if j != \"date\" else j for j in tmp.columns]\n",
    "            data_with_lags = data_with_lags.merge(tmp, how=\"left\", on=\"date\")\n",
    "            \n",
    "    return data_with_lags"
   ]
  },
  {
   "cell_type": "markdown",
   "id": "c938fadd",
   "metadata": {},
   "source": [
    "# Prepare data"
   ]
  },
  {
   "cell_type": "code",
   "execution_count": 395,
   "id": "1feecee2",
   "metadata": {},
   "outputs": [],
   "source": [
    "# Load data\n",
    "data = pd.read_csv('data/data_forecast.csv')\n",
    "metadata = pd.read_csv('data/metadata.csv')"
   ]
  },
  {
   "cell_type": "code",
   "execution_count": 396,
   "id": "baaecae4",
   "metadata": {},
   "outputs": [],
   "source": [
    "data['date'] = pd.to_datetime(data['date'])"
   ]
  },
  {
   "cell_type": "code",
   "execution_count": 397,
   "id": "1f82755f",
   "metadata": {},
   "outputs": [
    {
     "data": {
      "text/html": [
       "<div>\n",
       "<style scoped>\n",
       "    .dataframe tbody tr th:only-of-type {\n",
       "        vertical-align: middle;\n",
       "    }\n",
       "\n",
       "    .dataframe tbody tr th {\n",
       "        vertical-align: top;\n",
       "    }\n",
       "\n",
       "    .dataframe thead th {\n",
       "        text-align: right;\n",
       "    }\n",
       "</style>\n",
       "<table border=\"1\" class=\"dataframe\">\n",
       "  <thead>\n",
       "    <tr style=\"text-align: right;\">\n",
       "      <th></th>\n",
       "      <th>date</th>\n",
       "      <th>payems</th>\n",
       "      <th>gdpc</th>\n",
       "      <th>cpiaucsl</th>\n",
       "      <th>unrate</th>\n",
       "      <th>houst</th>\n",
       "      <th>indpro</th>\n",
       "      <th>dspic96</th>\n",
       "      <th>cpilfesl</th>\n",
       "      <th>pcepilfe</th>\n",
       "      <th>pcepi</th>\n",
       "      <th>permit</th>\n",
       "      <th>ulcnfb</th>\n",
       "      <th>a261rx1q020sbea</th>\n",
       "      <th>exports</th>\n",
       "    </tr>\n",
       "  </thead>\n",
       "  <tbody>\n",
       "    <tr>\n",
       "      <th>0</th>\n",
       "      <td>1947-01-01</td>\n",
       "      <td>NaN</td>\n",
       "      <td>NaN</td>\n",
       "      <td>NaN</td>\n",
       "      <td>NaN</td>\n",
       "      <td>NaN</td>\n",
       "      <td>NaN</td>\n",
       "      <td>NaN</td>\n",
       "      <td>NaN</td>\n",
       "      <td>NaN</td>\n",
       "      <td>NaN</td>\n",
       "      <td>NaN</td>\n",
       "      <td>NaN</td>\n",
       "      <td>NaN</td>\n",
       "      <td>NaN</td>\n",
       "    </tr>\n",
       "    <tr>\n",
       "      <th>1</th>\n",
       "      <td>1947-02-01</td>\n",
       "      <td>0.000505</td>\n",
       "      <td>NaN</td>\n",
       "      <td>0.006518</td>\n",
       "      <td>NaN</td>\n",
       "      <td>NaN</td>\n",
       "      <td>0.005902</td>\n",
       "      <td>NaN</td>\n",
       "      <td>NaN</td>\n",
       "      <td>NaN</td>\n",
       "      <td>NaN</td>\n",
       "      <td>NaN</td>\n",
       "      <td>NaN</td>\n",
       "      <td>NaN</td>\n",
       "      <td>NaN</td>\n",
       "    </tr>\n",
       "    <tr>\n",
       "      <th>2</th>\n",
       "      <td>1947-03-01</td>\n",
       "      <td>0.001148</td>\n",
       "      <td>NaN</td>\n",
       "      <td>0.017576</td>\n",
       "      <td>NaN</td>\n",
       "      <td>NaN</td>\n",
       "      <td>0.005874</td>\n",
       "      <td>NaN</td>\n",
       "      <td>NaN</td>\n",
       "      <td>NaN</td>\n",
       "      <td>NaN</td>\n",
       "      <td>NaN</td>\n",
       "      <td>NaN</td>\n",
       "      <td>NaN</td>\n",
       "      <td>0.059965</td>\n",
       "    </tr>\n",
       "    <tr>\n",
       "      <th>3</th>\n",
       "      <td>1947-04-01</td>\n",
       "      <td>-0.002477</td>\n",
       "      <td>NaN</td>\n",
       "      <td>0.000000</td>\n",
       "      <td>NaN</td>\n",
       "      <td>NaN</td>\n",
       "      <td>-0.007784</td>\n",
       "      <td>NaN</td>\n",
       "      <td>NaN</td>\n",
       "      <td>NaN</td>\n",
       "      <td>NaN</td>\n",
       "      <td>NaN</td>\n",
       "      <td>NaN</td>\n",
       "      <td>NaN</td>\n",
       "      <td>NaN</td>\n",
       "    </tr>\n",
       "    <tr>\n",
       "      <th>4</th>\n",
       "      <td>1947-05-01</td>\n",
       "      <td>0.003195</td>\n",
       "      <td>NaN</td>\n",
       "      <td>-0.002273</td>\n",
       "      <td>NaN</td>\n",
       "      <td>NaN</td>\n",
       "      <td>0.003919</td>\n",
       "      <td>NaN</td>\n",
       "      <td>NaN</td>\n",
       "      <td>NaN</td>\n",
       "      <td>NaN</td>\n",
       "      <td>NaN</td>\n",
       "      <td>NaN</td>\n",
       "      <td>NaN</td>\n",
       "      <td>NaN</td>\n",
       "    </tr>\n",
       "  </tbody>\n",
       "</table>\n",
       "</div>"
      ],
      "text/plain": [
       "        date    payems  gdpc  cpiaucsl  unrate  houst    indpro  dspic96  \\\n",
       "0 1947-01-01       NaN   NaN       NaN     NaN    NaN       NaN      NaN   \n",
       "1 1947-02-01  0.000505   NaN  0.006518     NaN    NaN  0.005902      NaN   \n",
       "2 1947-03-01  0.001148   NaN  0.017576     NaN    NaN  0.005874      NaN   \n",
       "3 1947-04-01 -0.002477   NaN  0.000000     NaN    NaN -0.007784      NaN   \n",
       "4 1947-05-01  0.003195   NaN -0.002273     NaN    NaN  0.003919      NaN   \n",
       "\n",
       "   cpilfesl  pcepilfe  pcepi  permit  ulcnfb  a261rx1q020sbea   exports  \n",
       "0       NaN       NaN    NaN     NaN     NaN              NaN       NaN  \n",
       "1       NaN       NaN    NaN     NaN     NaN              NaN       NaN  \n",
       "2       NaN       NaN    NaN     NaN     NaN              NaN  0.059965  \n",
       "3       NaN       NaN    NaN     NaN     NaN              NaN       NaN  \n",
       "4       NaN       NaN    NaN     NaN     NaN              NaN       NaN  "
      ]
     },
     "execution_count": 397,
     "metadata": {},
     "output_type": "execute_result"
    }
   ],
   "source": [
    "data.head()"
   ]
  },
  {
   "cell_type": "code",
   "execution_count": 398,
   "id": "0bdfd63d",
   "metadata": {},
   "outputs": [],
   "source": [
    "# Target variable\n",
    "target_variable = 'exports' "
   ]
  },
  {
   "cell_type": "code",
   "execution_count": 399,
   "id": "9aea7d84",
   "metadata": {},
   "outputs": [],
   "source": [
    "# Train and test split\n",
    "\n",
    "# Dates\n",
    "train_start_date = \"1947-01-01\"\n",
    "train_end_date = \"2005-12-01\"\n",
    "test_start_date = \"2006-03-01\"\n",
    "test_end_date = \"2011-12-01\"\n",
    "\n",
    "# Split\n",
    "train = data.loc[(data['date']>= train_start_date) & (data['date'] <= train_end_date), :].reset_index(drop = True)\n",
    "test = data.loc[(data['date'] >= train_start_date) & (data['date'] <= test_end_date), :].reset_index(drop = True)"
   ]
  },
  {
   "cell_type": "code",
   "execution_count": 400,
   "id": "afffd5ed",
   "metadata": {},
   "outputs": [],
   "source": [
    "# Define publication lags\n",
    "lags = list(range(-2,3))"
   ]
  },
  {
   "cell_type": "code",
   "execution_count": 401,
   "id": "07632148",
   "metadata": {},
   "outputs": [],
   "source": [
    "# Impute by forward filling\n",
    "train_processed = train.fillna(method = 'ffill')"
   ]
  },
  {
   "cell_type": "code",
   "execution_count": 402,
   "id": "f52c2840",
   "metadata": {},
   "outputs": [],
   "source": [
    "# Impute remaining missing observations by backward filling\n",
    "train_processed = train_processed.fillna(method = 'bfill')"
   ]
  },
  {
   "cell_type": "code",
   "execution_count": 403,
   "id": "23c20263",
   "metadata": {},
   "outputs": [],
   "source": [
    "train_processed = add_lags(train_processed, target_variable,4)"
   ]
  },
  {
   "cell_type": "code",
   "execution_count": 404,
   "id": "cb0646fb",
   "metadata": {},
   "outputs": [],
   "source": [
    "# Keep only quarterly observations\n",
    "train_processed = train_processed.loc[train_processed['date'].dt.month.isin([3,6,9,12]),:]"
   ]
  },
  {
   "cell_type": "code",
   "execution_count": 405,
   "id": "4c8b64e0",
   "metadata": {},
   "outputs": [],
   "source": [
    "# Drop rows with missing lag values \n",
    "train_processed = train_processed.dropna(how = 'any', axis = 0).reset_index(drop = True)"
   ]
  },
  {
   "cell_type": "markdown",
   "id": "469a67a4",
   "metadata": {},
   "source": [
    "# Train models"
   ]
  },
  {
   "cell_type": "code",
   "execution_count": 406,
   "id": "227e9f45",
   "metadata": {},
   "outputs": [],
   "source": [
    "# train 10 models to average outputs \n",
    "models = []\n",
    "for i in range(10):\n",
    "    model = RandomForestRegressor(n_estimators = 100, criterion = \"absolute_error\", max_depth = None, min_samples_split = 2, min_samples_leaf = 1)\n",
    "\n",
    "    \n",
    "    x = train_processed.drop([\"date\", target_variable], axis=1)\n",
    "    y = train_processed[target_variable]\n",
    "    \n",
    "    model.fit(x, y)\n",
    "    models.append(model)"
   ]
  },
  {
   "cell_type": "markdown",
   "id": "30276f33",
   "metadata": {},
   "source": [
    "# Evaluate performance"
   ]
  },
  {
   "cell_type": "code",
   "execution_count": 525,
   "id": "c83614f9",
   "metadata": {},
   "outputs": [],
   "source": [
    "# Test dates\n",
    "test_dates = (pd.date_range(test_start_date, test_end_date, freq=\"3MS\")\n",
    "        .strftime(\"%Y-%m-%d\")\n",
    "        .tolist())"
   ]
  },
  {
   "cell_type": "code",
   "execution_count": 526,
   "id": "170f102f",
   "metadata": {},
   "outputs": [],
   "source": [
    "# Test values\n",
    "test_values = list(test.loc[test.date.isin(test_dates), target_variable].values)"
   ]
  },
  {
   "cell_type": "code",
   "execution_count": 527,
   "id": "630ede0e",
   "metadata": {},
   "outputs": [],
   "source": [
    "pred_dict = {k: [] for k in lags}\n",
    "for lag in lags:\n",
    "    for date in test_dates:\n",
    "        # the data available for this date at this artificial vintage\n",
    "        tmp_data = publ_delay(metadata, test, date, lag)\n",
    "\n",
    "        # Pre-process data\n",
    "        tmp_data = tmp_data.fillna(method = 'ffill')\n",
    "        tmp_data = tmp_data.fillna(method = 'bfill')\n",
    "        tmp_data = add_lags(tmp_data, target_variable, 4) \n",
    "        x = tmp_data.loc[tmp_data['date'] == date, :].drop(['date', target_variable], axis=1)\n",
    "        \n",
    "        # average results of 10 models' predictions\n",
    "        preds = []\n",
    "        for i in range(10):\n",
    "            prediction = models[i].predict(x)[0]\n",
    "            preds.append(prediction)\n",
    "        \n",
    "        pred_dict[lag].append(np.nanmean(preds))"
   ]
  },
  {
   "cell_type": "markdown",
   "id": "90e7f105",
   "metadata": {},
   "source": [
    "# Visualise"
   ]
  },
  {
   "cell_type": "code",
   "execution_count": 479,
   "id": "3d976ec5",
   "metadata": {},
   "outputs": [
    {
     "data": {
      "text/html": [
       "<div>\n",
       "<style scoped>\n",
       "    .dataframe tbody tr th:only-of-type {\n",
       "        vertical-align: middle;\n",
       "    }\n",
       "\n",
       "    .dataframe tbody tr th {\n",
       "        vertical-align: top;\n",
       "    }\n",
       "\n",
       "    .dataframe thead th {\n",
       "        text-align: right;\n",
       "    }\n",
       "</style>\n",
       "<table border=\"1\" class=\"dataframe\">\n",
       "  <thead>\n",
       "    <tr style=\"text-align: right;\">\n",
       "      <th></th>\n",
       "      <th>Vintage</th>\n",
       "      <th>RMSE</th>\n",
       "    </tr>\n",
       "  </thead>\n",
       "  <tbody>\n",
       "    <tr>\n",
       "      <th>0</th>\n",
       "      <td>-2</td>\n",
       "      <td>0.0463</td>\n",
       "    </tr>\n",
       "    <tr>\n",
       "      <th>1</th>\n",
       "      <td>-1</td>\n",
       "      <td>0.0437</td>\n",
       "    </tr>\n",
       "    <tr>\n",
       "      <th>2</th>\n",
       "      <td>0</td>\n",
       "      <td>0.0448</td>\n",
       "    </tr>\n",
       "    <tr>\n",
       "      <th>3</th>\n",
       "      <td>1</td>\n",
       "      <td>0.0451</td>\n",
       "    </tr>\n",
       "    <tr>\n",
       "      <th>4</th>\n",
       "      <td>2</td>\n",
       "      <td>0.0437</td>\n",
       "    </tr>\n",
       "  </tbody>\n",
       "</table>\n",
       "</div>"
      ],
      "text/plain": [
       "  Vintage    RMSE\n",
       "0      -2  0.0463\n",
       "1      -1  0.0437\n",
       "2       0  0.0448\n",
       "3       1  0.0451\n",
       "4       2  0.0437"
      ]
     },
     "execution_count": 479,
     "metadata": {},
     "output_type": "execute_result"
    }
   ],
   "source": [
    "# table of RMSE by vintage\n",
    "performance = pd.DataFrame(columns=[\"Vintage\", \"RMSE\"])\n",
    "for lag in lags:\n",
    "    tmp = pd.DataFrame({\n",
    "        \"Vintage\":lag,\n",
    "        \"RMSE\":np.sqrt(np.mean((np.array(test_values) - np.array(pred_dict[lag])) ** 2))\n",
    "    }, index=[0])\n",
    "    performance = pd.concat([performance, tmp], axis = 0).reset_index(drop=True)\n",
    "performance.round(4)"
   ]
  },
  {
   "cell_type": "code",
   "execution_count": 536,
   "id": "b32586ef",
   "metadata": {},
   "outputs": [],
   "source": [
    "# plot of predictions vs test_values\n",
    "data_plot = pd.DataFrame({\n",
    "    \"true values\":test_values, \n",
    "    \"predictions with lag of 2\":pred_dict[-2], \n",
    "    \"predictions with lag of 1\":pred_dict[-1], \n",
    "    \"predictions with no lag\":pred_dict[0],\n",
    "    \"predictions with 1 year ahead\":pred_dict[1],\n",
    "    \"predictions with 2 years ahead\":pred_dict[2]}, \n",
    "    index = test_dates)"
   ]
  },
  {
   "cell_type": "code",
   "execution_count": 561,
   "id": "22c72034",
   "metadata": {},
   "outputs": [
    {
     "data": {
      "image/png": "[encoded data removed]",
      "text/plain": [
       "<Figure size 640x480 with 1 Axes>"
      ]
     },
     "metadata": {},
     "output_type": "display_data"
    }
   ],
   "source": [
    "sns.set_style(\"dark\")\n",
    "ax = sns.lineplot(data=data_plot)\n",
    "\n",
    "\n",
    "plt.setp(ax.get_legend().get_texts(), fontsize='7') # for legend text\n",
    "\n",
    "plt.xticks(rotation = 90, fontsize=7)\n",
    "plt.ylabel(\"Growth rate\", fontsize=10)\n",
    "\n",
    "plt.title(\"Exports: Predictions vs. true values\", y=1.013);"
   ]
  },
  {
   "cell_type": "markdown",
   "id": "0f642f98",
   "metadata": {},
   "source": [
    "# Use best model to predict Exports"
   ]
  },
  {
   "cell_type": "code",
   "execution_count": 502,
   "id": "d09c8104",
   "metadata": {},
   "outputs": [],
   "source": [
    "# Expand test set by adding dates up to the desired date \n",
    "ext_test_data = test.copy()\n",
    "prediction_date = pd.to_datetime(\"2013-01-01\")\n",
    "\n",
    "while prediction_date > np.max(ext_test_data.date):\n",
    "    ext_test_data.loc[len(ext_test_data), \"date\"] = np.max(ext_test_data.date) + pd.DateOffset(months=1)"
   ]
  },
  {
   "cell_type": "code",
   "execution_count": 503,
   "id": "9431ab4f",
   "metadata": {},
   "outputs": [
    {
     "data": {
      "text/html": [
       "<div>\n",
       "<style scoped>\n",
       "    .dataframe tbody tr th:only-of-type {\n",
       "        vertical-align: middle;\n",
       "    }\n",
       "\n",
       "    .dataframe tbody tr th {\n",
       "        vertical-align: top;\n",
       "    }\n",
       "\n",
       "    .dataframe thead th {\n",
       "        text-align: right;\n",
       "    }\n",
       "</style>\n",
       "<table border=\"1\" class=\"dataframe\">\n",
       "  <thead>\n",
       "    <tr style=\"text-align: right;\">\n",
       "      <th></th>\n",
       "      <th>date</th>\n",
       "      <th>payems</th>\n",
       "      <th>gdpc</th>\n",
       "      <th>cpiaucsl</th>\n",
       "      <th>unrate</th>\n",
       "      <th>houst</th>\n",
       "      <th>indpro</th>\n",
       "      <th>dspic96</th>\n",
       "      <th>cpilfesl</th>\n",
       "      <th>pcepilfe</th>\n",
       "      <th>pcepi</th>\n",
       "      <th>permit</th>\n",
       "      <th>ulcnfb</th>\n",
       "      <th>a261rx1q020sbea</th>\n",
       "      <th>exports</th>\n",
       "    </tr>\n",
       "  </thead>\n",
       "  <tbody>\n",
       "    <tr>\n",
       "      <th>788</th>\n",
       "      <td>2012-09-01</td>\n",
       "      <td>NaN</td>\n",
       "      <td>NaN</td>\n",
       "      <td>NaN</td>\n",
       "      <td>NaN</td>\n",
       "      <td>NaN</td>\n",
       "      <td>NaN</td>\n",
       "      <td>NaN</td>\n",
       "      <td>NaN</td>\n",
       "      <td>NaN</td>\n",
       "      <td>NaN</td>\n",
       "      <td>NaN</td>\n",
       "      <td>NaN</td>\n",
       "      <td>NaN</td>\n",
       "      <td>NaN</td>\n",
       "    </tr>\n",
       "    <tr>\n",
       "      <th>789</th>\n",
       "      <td>2012-10-01</td>\n",
       "      <td>NaN</td>\n",
       "      <td>NaN</td>\n",
       "      <td>NaN</td>\n",
       "      <td>NaN</td>\n",
       "      <td>NaN</td>\n",
       "      <td>NaN</td>\n",
       "      <td>NaN</td>\n",
       "      <td>NaN</td>\n",
       "      <td>NaN</td>\n",
       "      <td>NaN</td>\n",
       "      <td>NaN</td>\n",
       "      <td>NaN</td>\n",
       "      <td>NaN</td>\n",
       "      <td>NaN</td>\n",
       "    </tr>\n",
       "    <tr>\n",
       "      <th>790</th>\n",
       "      <td>2012-11-01</td>\n",
       "      <td>NaN</td>\n",
       "      <td>NaN</td>\n",
       "      <td>NaN</td>\n",
       "      <td>NaN</td>\n",
       "      <td>NaN</td>\n",
       "      <td>NaN</td>\n",
       "      <td>NaN</td>\n",
       "      <td>NaN</td>\n",
       "      <td>NaN</td>\n",
       "      <td>NaN</td>\n",
       "      <td>NaN</td>\n",
       "      <td>NaN</td>\n",
       "      <td>NaN</td>\n",
       "      <td>NaN</td>\n",
       "    </tr>\n",
       "    <tr>\n",
       "      <th>791</th>\n",
       "      <td>2012-12-01</td>\n",
       "      <td>NaN</td>\n",
       "      <td>NaN</td>\n",
       "      <td>NaN</td>\n",
       "      <td>NaN</td>\n",
       "      <td>NaN</td>\n",
       "      <td>NaN</td>\n",
       "      <td>NaN</td>\n",
       "      <td>NaN</td>\n",
       "      <td>NaN</td>\n",
       "      <td>NaN</td>\n",
       "      <td>NaN</td>\n",
       "      <td>NaN</td>\n",
       "      <td>NaN</td>\n",
       "      <td>NaN</td>\n",
       "    </tr>\n",
       "    <tr>\n",
       "      <th>792</th>\n",
       "      <td>2013-01-01</td>\n",
       "      <td>NaN</td>\n",
       "      <td>NaN</td>\n",
       "      <td>NaN</td>\n",
       "      <td>NaN</td>\n",
       "      <td>NaN</td>\n",
       "      <td>NaN</td>\n",
       "      <td>NaN</td>\n",
       "      <td>NaN</td>\n",
       "      <td>NaN</td>\n",
       "      <td>NaN</td>\n",
       "      <td>NaN</td>\n",
       "      <td>NaN</td>\n",
       "      <td>NaN</td>\n",
       "      <td>NaN</td>\n",
       "    </tr>\n",
       "  </tbody>\n",
       "</table>\n",
       "</div>"
      ],
      "text/plain": [
       "          date  payems  gdpc  cpiaucsl  unrate  houst  indpro  dspic96  \\\n",
       "788 2012-09-01     NaN   NaN       NaN     NaN    NaN     NaN      NaN   \n",
       "789 2012-10-01     NaN   NaN       NaN     NaN    NaN     NaN      NaN   \n",
       "790 2012-11-01     NaN   NaN       NaN     NaN    NaN     NaN      NaN   \n",
       "791 2012-12-01     NaN   NaN       NaN     NaN    NaN     NaN      NaN   \n",
       "792 2013-01-01     NaN   NaN       NaN     NaN    NaN     NaN      NaN   \n",
       "\n",
       "     cpilfesl  pcepilfe  pcepi  permit  ulcnfb  a261rx1q020sbea  exports  \n",
       "788       NaN       NaN    NaN     NaN     NaN              NaN      NaN  \n",
       "789       NaN       NaN    NaN     NaN     NaN              NaN      NaN  \n",
       "790       NaN       NaN    NaN     NaN     NaN              NaN      NaN  \n",
       "791       NaN       NaN    NaN     NaN     NaN              NaN      NaN  \n",
       "792       NaN       NaN    NaN     NaN     NaN              NaN      NaN  "
      ]
     },
     "execution_count": 503,
     "metadata": {},
     "output_type": "execute_result"
    }
   ],
   "source": [
    "ext_test_data.tail()"
   ]
  },
  {
   "cell_type": "code",
   "execution_count": 504,
   "id": "55a33407",
   "metadata": {},
   "outputs": [],
   "source": [
    "# Pre-process data\n",
    "ext_test_data_processed = ext_test_data.fillna(method = 'ffill')\n",
    "ext_test_data_processed = ext_test_data_processed.fillna(method = 'bfill')\n",
    "ext_test_data_processed = add_lags(ext_test_data_processed, target_variable, 4) "
   ]
  },
  {
   "cell_type": "code",
   "execution_count": 505,
   "id": "4c872145",
   "metadata": {},
   "outputs": [
    {
     "data": {
      "text/html": [
       "<div>\n",
       "<style scoped>\n",
       "    .dataframe tbody tr th:only-of-type {\n",
       "        vertical-align: middle;\n",
       "    }\n",
       "\n",
       "    .dataframe tbody tr th {\n",
       "        vertical-align: top;\n",
       "    }\n",
       "\n",
       "    .dataframe thead th {\n",
       "        text-align: right;\n",
       "    }\n",
       "</style>\n",
       "<table border=\"1\" class=\"dataframe\">\n",
       "  <thead>\n",
       "    <tr style=\"text-align: right;\">\n",
       "      <th></th>\n",
       "      <th>date</th>\n",
       "      <th>exports</th>\n",
       "    </tr>\n",
       "  </thead>\n",
       "  <tbody>\n",
       "    <tr>\n",
       "      <th>788</th>\n",
       "      <td>2012-09-01</td>\n",
       "      <td>0.018538</td>\n",
       "    </tr>\n",
       "    <tr>\n",
       "      <th>789</th>\n",
       "      <td>2012-10-01</td>\n",
       "      <td>0.018538</td>\n",
       "    </tr>\n",
       "    <tr>\n",
       "      <th>790</th>\n",
       "      <td>2012-11-01</td>\n",
       "      <td>0.018538</td>\n",
       "    </tr>\n",
       "    <tr>\n",
       "      <th>791</th>\n",
       "      <td>2012-12-01</td>\n",
       "      <td>0.018538</td>\n",
       "    </tr>\n",
       "    <tr>\n",
       "      <th>792</th>\n",
       "      <td>2013-01-01</td>\n",
       "      <td>0.018538</td>\n",
       "    </tr>\n",
       "  </tbody>\n",
       "</table>\n",
       "</div>"
      ],
      "text/plain": [
       "          date   exports\n",
       "788 2012-09-01  0.018538\n",
       "789 2012-10-01  0.018538\n",
       "790 2012-11-01  0.018538\n",
       "791 2012-12-01  0.018538\n",
       "792 2013-01-01  0.018538"
      ]
     },
     "execution_count": 505,
     "metadata": {},
     "output_type": "execute_result"
    }
   ],
   "source": [
    "ext_test_data_processed[['date','exports']].tail()"
   ]
  },
  {
   "cell_type": "code",
   "execution_count": 506,
   "id": "de577082",
   "metadata": {},
   "outputs": [],
   "source": [
    "x = ext_test_data_processed.loc[ext_test_data_processed['date'] == prediction_date, :].drop(['date', target_variable], axis=1)"
   ]
  },
  {
   "cell_type": "code",
   "execution_count": 511,
   "id": "fca97554",
   "metadata": {},
   "outputs": [
    {
     "data": {
      "text/plain": [
       "0.007737240980557221"
      ]
     },
     "execution_count": 511,
     "metadata": {},
     "output_type": "execute_result"
    }
   ],
   "source": [
    "preds = []\n",
    "for i in range(10):\n",
    "    prediction = models[i].predict(x)[0]\n",
    "    preds.append(prediction)\n",
    "        \n",
    "np.nanmean(preds)"
   ]
  }
 ],
 "metadata": {
  "kernelspec": {
   "display_name": "Python 3 (ipykernel)",
   "language": "python",
   "name": "python3"
  },
  "language_info": {
   "codemirror_mode": {
    "name": "ipython",
    "version": 3
   },
   "file_extension": ".py",
   "mimetype": "text/x-python",
   "name": "python",
   "nbconvert_exporter": "python",
   "pygments_lexer": "ipython3",
   "version": "3.9.13"
  }
 },
 "nbformat": 4,
 "nbformat_minor": 5
}
